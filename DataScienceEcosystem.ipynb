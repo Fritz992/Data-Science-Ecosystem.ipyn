{
 "cells": [
  {
   "cell_type": "markdown",
   "id": "3c9daccb-76da-42be-a212-6896eb0da031",
   "metadata": {},
   "source": [
    "# Data science tools and ecosystem"
   ]
  },
  {
   "cell_type": "markdown",
   "id": "62106560-718a-4a08-ac4d-e0f28775beab",
   "metadata": {},
   "source": [
    "In this notebook, Data Science Tools and Ecosystem are summarized."
   ]
  },
  {
   "cell_type": "markdown",
   "id": "bf0fe24c-aaf4-40aa-a678-d0dd875810dc",
   "metadata": {},
   "source": [
    "__Objectives:__\n",
    "  - Python\n",
    "  - R\n",
    "  - Java\n",
    "  - SQL"
   ]
  },
  {
   "cell_type": "markdown",
   "id": "9994a000-e2f8-4105-9b87-1c225d2032e5",
   "metadata": {},
   "source": [
    "Some of the popular languages that Data Scientists use are:"
   ]
  },
  {
   "cell_type": "markdown",
   "id": "b37544bd-c5fc-4376-9c17-ca928c359050",
   "metadata": {},
   "source": [
    "1-Python\n",
    "2-R\n",
    "3-Java\n",
    "4-SQL\n",
    "5-Julia"
   ]
  },
  {
   "cell_type": "markdown",
   "id": "36c68c88-4687-44e1-a667-15f6a50075f8",
   "metadata": {},
   "source": [
    "Some of the commonly used libraries used by Data Scientists include:"
   ]
  },
  {
   "cell_type": "markdown",
   "id": "dff1a355-5a65-4f8e-8613-319a89c367d6",
   "metadata": {},
   "source": [
    "1-TensorFlow\n",
    "2-Pandas\n",
    "3-NumPy "
   ]
  },
  {
   "cell_type": "markdown",
   "id": "2939a91d-e0aa-4296-9971-a50e20d197e9",
   "metadata": {},
   "source": [
    "# | Data Science Tools |"
   ]
  },
  {
   "cell_type": "markdown",
   "id": "e58f3105-0816-4fe7-971a-430da4fc4daf",
   "metadata": {},
   "source": [
    "| Linx | Cloud 9 | Docker |"
   ]
  },
  {
   "cell_type": "markdown",
   "id": "1afe2588-7098-4328-b08c-000e389abf25",
   "metadata": {},
   "source": [
    "H3 Below are a few examples of evaluating arithmetic expressions in Python"
   ]
  },
  {
   "cell_type": "code",
   "execution_count": 2,
   "id": "6992bcb6-aad7-4f27-9400-d0e744849ddd",
   "metadata": {},
   "outputs": [
    {
     "data": {
      "text/plain": [
       "17"
      ]
     },
     "execution_count": 2,
     "metadata": {},
     "output_type": "execute_result"
    }
   ],
   "source": [
    "(3*4)+5"
   ]
  },
  {
   "cell_type": "markdown",
   "id": "561d209b-7b40-47ae-810f-437c67b420c8",
   "metadata": {},
   "source": [
    "This a simple arithmetic expression to mutiply then add integers"
   ]
  },
  {
   "cell_type": "markdown",
   "id": "1fa16821-5d67-4a97-8daf-4793bfcf2b13",
   "metadata": {},
   "source": [
    "## Author \n",
    "Lorenzo A.R. Frisina"
   ]
  },
  {
   "cell_type": "code",
   "execution_count": null,
   "id": "2c49025f-d208-49e0-9442-4bbcbb069daa",
   "metadata": {},
   "outputs": [],
   "source": []
  }
 ],
 "metadata": {
  "kernelspec": {
   "display_name": "Python",
   "language": "python",
   "name": "conda-env-python-py"
  },
  "language_info": {
   "codemirror_mode": {
    "name": "ipython",
    "version": 3
   },
   "file_extension": ".py",
   "mimetype": "text/x-python",
   "name": "python",
   "nbconvert_exporter": "python",
   "pygments_lexer": "ipython3",
   "version": "3.7.12"
  }
 },
 "nbformat": 4,
 "nbformat_minor": 5
}
